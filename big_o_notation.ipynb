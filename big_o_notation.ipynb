{
 "cells": [
  {
   "cell_type": "markdown",
   "id": "a914f7a2",
   "metadata": {},
   "source": [
    "Title your chart \"Big O Notation\""
   ]
  },
  {
   "cell_type": "markdown",
   "id": "3d3ab206",
   "metadata": {},
   "source": [
    "Label your x axis \"Elements\"\n",
    "Label your y axis \"Operations\"\n",
    "Label your curves or make a legend for the curves\n",
    "Use LaTex notation where possible"
   ]
  },
  {
   "cell_type": "markdown",
   "id": "a0fbb5e2",
   "metadata": {},
   "source": [
    "y=0n+1 and label the curve \"O(1)\""
   ]
  },
  {
   "cell_type": "code",
   "execution_count": 1,
   "id": "0aa6c12d",
   "metadata": {},
   "outputs": [],
   "source": [
    "import numpy as np\n",
    "import math\n",
    "import matplotlib.pyplot as plt"
   ]
  },
  {
   "cell_type": "code",
   "execution_count": null,
   "id": "575da247",
   "metadata": {},
   "outputs": [],
   "source": [
    "x = np.linspace()"
   ]
  }
 ],
 "metadata": {
  "kernelspec": {
   "display_name": "Python 3 (ipykernel)",
   "language": "python",
   "name": "python3"
  },
  "language_info": {
   "codemirror_mode": {
    "name": "ipython",
    "version": 3
   },
   "file_extension": ".py",
   "mimetype": "text/x-python",
   "name": "python",
   "nbconvert_exporter": "python",
   "pygments_lexer": "ipython3",
   "version": "3.9.13"
  }
 },
 "nbformat": 4,
 "nbformat_minor": 5
}
